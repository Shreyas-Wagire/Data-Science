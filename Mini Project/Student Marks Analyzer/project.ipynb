{
 "cells": [
  {
   "cell_type": "code",
   "execution_count": 2,
   "id": "a99652af",
   "metadata": {},
   "outputs": [],
   "source": [
    "import pandas as pd\n",
    "import numpy as np"
   ]
  },
  {
   "cell_type": "code",
   "execution_count": 6,
   "id": "4dcab17e",
   "metadata": {},
   "outputs": [
    {
     "name": "stdout",
     "output_type": "stream",
     "text": [
      "      Name  Subject  Marks\n",
      "0  Shreyas     Math     85\n",
      "1  Pragati  Science     90\n",
      "2     Amit  English     78\n",
      "3     Neha     Math     92\n",
      "4    Rohan  Science     88\n",
      "5    Sneha  English     74\n",
      "6    Vikas     Math     80\n",
      "7    Pooja  Science     95\n",
      "8    Arjun  English     70\n",
      "9   Ananya     Math     89\n"
     ]
    }
   ],
   "source": [
    "df = pd.read_csv('student_marks.csv')\n",
    "print(df)"
   ]
  },
  {
   "cell_type": "code",
   "execution_count": 8,
   "id": "0bb222d6",
   "metadata": {},
   "outputs": [
    {
     "name": "stdout",
     "output_type": "stream",
     "text": [
      "Mean Marks: 84.1\n"
     ]
    }
   ],
   "source": [
    "mean_marks = df['Marks'].mean()\n",
    "print(f\"Mean Marks: {mean_marks}\")"
   ]
  },
  {
   "cell_type": "code",
   "execution_count": 9,
   "id": "b7dedcdf",
   "metadata": {},
   "outputs": [
    {
     "name": "stdout",
     "output_type": "stream",
     "text": [
      "    Name  Subject  Marks\n",
      "7  Pooja  Science     95\n"
     ]
    }
   ],
   "source": [
    "topper = df[df['Marks']==df['Marks'].max()]\n",
    "print(topper)"
   ]
  },
  {
   "cell_type": "code",
   "execution_count": 15,
   "id": "b2278d21",
   "metadata": {},
   "outputs": [
    {
     "name": "stdout",
     "output_type": "stream",
     "text": [
      "Subject\n",
      "English    74.0\n",
      "Math       86.5\n",
      "Science    91.0\n",
      "Name: Marks, dtype: float64\n"
     ]
    }
   ],
   "source": [
    "subject_mean = df.groupby('Subject')['Marks'].mean()\n",
    "print(subject_mean)\n"
   ]
  },
  {
   "cell_type": "code",
   "execution_count": 22,
   "id": "3c8817e6",
   "metadata": {},
   "outputs": [
    {
     "name": "stdout",
     "output_type": "stream",
     "text": [
      "[85 90 78 92 88 74 80 95 70 89]\n"
     ]
    }
   ],
   "source": [
    "marks_array = df['Marks'].to_numpy()\n",
    "print(marks_arr)"
   ]
  },
  {
   "cell_type": "code",
   "execution_count": 23,
   "id": "6eb7f893",
   "metadata": {},
   "outputs": [],
   "source": [
    "mean_numpy = np.mean(marks_array)\n",
    "median_numpy = np.median(marks_array)\n",
    "std_dev_numpy = np.std(marks_array)"
   ]
  },
  {
   "cell_type": "code",
   "execution_count": 26,
   "id": "b665cc75",
   "metadata": {},
   "outputs": [],
   "source": [
    "result = {'pandas':{\n",
    "    'Mean': mean_marks,\n",
    "    'Topper': topper,\n",
    "    'Subject Mean': subject_mean\n",
    "}, 'numpy':{\n",
    "    'Mean': mean_numpy,\n",
    "    'Median': median_numpy,\n",
    "    'Standard Deviation': std_dev_numpy\n",
    "}}"
   ]
  },
  {
   "cell_type": "code",
   "execution_count": 27,
   "id": "017422fe",
   "metadata": {},
   "outputs": [
    {
     "name": "stdout",
     "output_type": "stream",
     "text": [
      "{'pandas': {'Mean': np.float64(84.1), 'Topper':     Name  Subject  Marks\n",
      "7  Pooja  Science     95, 'Subject Mean': Subject\n",
      "English    74.0\n",
      "Math       86.5\n",
      "Science    91.0\n",
      "Name: Marks, dtype: float64}, 'numpy': {'Mean': np.float64(84.1), 'Median': np.float64(86.5), 'Standard Deviation': np.float64(7.816009211867653)}}\n"
     ]
    }
   ],
   "source": [
    "print(result)"
   ]
  },
  {
   "cell_type": "code",
   "execution_count": null,
   "id": "f9b4c835",
   "metadata": {},
   "outputs": [],
   "source": []
  }
 ],
 "metadata": {
  "kernelspec": {
   "display_name": ".venv (3.13.5)",
   "language": "python",
   "name": "python3"
  },
  "language_info": {
   "codemirror_mode": {
    "name": "ipython",
    "version": 3
   },
   "file_extension": ".py",
   "mimetype": "text/x-python",
   "name": "python",
   "nbconvert_exporter": "python",
   "pygments_lexer": "ipython3",
   "version": "3.13.5"
  }
 },
 "nbformat": 4,
 "nbformat_minor": 5
}

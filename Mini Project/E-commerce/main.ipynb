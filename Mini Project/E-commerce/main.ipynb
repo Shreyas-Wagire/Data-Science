{
 "cells": [
  {
   "cell_type": "code",
   "execution_count": 1,
   "id": "8955600e",
   "metadata": {},
   "outputs": [],
   "source": [
    "import pandas as pd\n",
    "import numpy as np\n",
    "import matplotlib.pyplot as plt"
   ]
  },
  {
   "cell_type": "code",
   "execution_count": 2,
   "id": "a8648c2d",
   "metadata": {},
   "outputs": [
    {
     "name": "stdout",
     "output_type": "stream",
     "text": [
      "    OrderID Customer     Product  Quantity  Price        Date\n",
      "0      1001  Shreyas      Laptop         1  55000  2025-08-01\n",
      "1      1002  Pragati  Headphones         2   1500  2025-08-01\n",
      "2      1003     Amit  Smartphone         1  22000  2025-08-02\n",
      "3      1004     Neha    Keyboard         1   1200  2025-08-02\n",
      "4      1005    Rohan       Mouse         3    600  2025-08-03\n",
      "5      1006    Sneha     Monitor         1   9000  2025-08-03\n",
      "6      1007    Vikas      Laptop         2  54000  2025-08-04\n",
      "7      1008    Pooja  Smartwatch         1   7000  2025-08-04\n",
      "8      1009    Arjun      Tablet         1  18000  2025-08-05\n",
      "9      1010   Ananya     Charger         2    800  2025-08-05\n",
      "10     1011    Kiran  Headphones         1   1600  2025-08-06\n",
      "11     1012    Meera  Smartphone         1  21000  2025-08-06\n",
      "12     1013    Rahul      Laptop         1  56000  2025-08-07\n",
      "13     1014    Tanvi    Keyboard         2   1100  2025-08-07\n",
      "14     1015      Dev       Mouse         1    550  2025-08-08\n"
     ]
    }
   ],
   "source": [
    "file = pd.read_csv('ecommerce.csv')\n",
    "print(file)"
   ]
  },
  {
   "cell_type": "code",
   "execution_count": 3,
   "id": "049b5569",
   "metadata": {},
   "outputs": [
    {
     "name": "stdout",
     "output_type": "stream",
     "text": [
      "   OrderID Customer     Product  Quantity  Price        Date  Revenue\n",
      "0     1001  Shreyas      Laptop         1  55000  2025-08-01    55000\n",
      "1     1002  Pragati  Headphones         2   1500  2025-08-01     3000\n",
      "2     1003     Amit  Smartphone         1  22000  2025-08-02    22000\n",
      "3     1004     Neha    Keyboard         1   1200  2025-08-02     1200\n",
      "4     1005    Rohan       Mouse         3    600  2025-08-03     1800\n"
     ]
    }
   ],
   "source": [
    "file['Revenue'] = file['Quantity'] * file['Price']\n",
    "print(file.head())"
   ]
  },
  {
   "cell_type": "code",
   "execution_count": null,
   "id": "f45f44a0",
   "metadata": {},
   "outputs": [
    {
     "name": "stdout",
     "output_type": "stream",
     "text": [
      "   OrderID Customer     Product  Quantity  Price       Date  Revenue\n",
      "0     1001  Shreyas      Laptop         1  55000 2025-08-01    55000\n",
      "1     1002  Pragati  Headphones         2   1500 2025-08-01     3000\n",
      "2     1003     Amit  Smartphone         1  22000 2025-08-02    22000\n",
      "3     1004     Neha    Keyboard         1   1200 2025-08-02     1200\n",
      "4     1005    Rohan       Mouse         3    600 2025-08-03     1800\n",
      "Monthly Revenue:\n",
      " Date\n",
      "2025-08    307950\n",
      "Freq: M, Name: Revenue, dtype: int64\n"
     ]
    }
   ],
   "source": [
    "file[\"Date\"] = pd.to_datetime(file[\"Date\"])\n",
    "monthly_revenue = file.groupby(file[\"Date\"].dt.to_period(\"M\"))[\"Revenue\"].sum()\n",
    "print(\"Monthly Revenue:\\n\", monthly_revenue)"
   ]
  },
  {
   "cell_type": "code",
   "execution_count": 13,
   "id": "ec0de56c",
   "metadata": {},
   "outputs": [
    {
     "name": "stdout",
     "output_type": "stream",
     "text": [
      "Product\n",
      "Laptop        219000\n",
      "Smartphone     43000\n",
      "Tablet         18000\n",
      "Monitor         9000\n",
      "Smartwatch      7000\n",
      "Name: Revenue, dtype: int64\n"
     ]
    }
   ],
   "source": [
    "top_product = file.groupby('Product')['Revenue'].sum().sort_values(ascending=False)\n",
    "print(top_product.head())"
   ]
  },
  {
   "cell_type": "code",
   "execution_count": 14,
   "id": "85089180",
   "metadata": {},
   "outputs": [
    {
     "name": "stdout",
     "output_type": "stream",
     "text": [
      "Customer\n",
      "Vikas      108000\n",
      "Rahul       56000\n",
      "Shreyas     55000\n",
      "Amit        22000\n",
      "Meera       21000\n",
      "Name: Revenue, dtype: int64\n"
     ]
    }
   ],
   "source": [
    "customer_spending = file.groupby('Customer')['Revenue'].sum().sort_values(ascending=False)\n",
    "print(customer_spending.head())"
   ]
  },
  {
   "cell_type": "code",
   "execution_count": 15,
   "id": "1099cc9e",
   "metadata": {},
   "outputs": [
    {
     "name": "stdout",
     "output_type": "stream",
     "text": [
      "Growth Rate:\n",
      " []\n"
     ]
    }
   ],
   "source": [
    "rev_arr = monthly_revenue.to_numpy()\n",
    "gorwth_rate = np.diff(rev_arr) / rev_arr[:-1] * 100\n",
    "print(\"Growth Rate:\\n\", gorwth_rate)"
   ]
  },
  {
   "cell_type": "code",
   "execution_count": null,
   "id": "ec0c8d34",
   "metadata": {},
   "outputs": [],
   "source": []
  }
 ],
 "metadata": {
  "kernelspec": {
   "display_name": ".venv (3.13.5)",
   "language": "python",
   "name": "python3"
  },
  "language_info": {
   "codemirror_mode": {
    "name": "ipython",
    "version": 3
   },
   "file_extension": ".py",
   "mimetype": "text/x-python",
   "name": "python",
   "nbconvert_exporter": "python",
   "pygments_lexer": "ipython3",
   "version": "3.13.5"
  }
 },
 "nbformat": 4,
 "nbformat_minor": 5
}

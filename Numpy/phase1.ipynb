{
 "cells": [
  {
   "cell_type": "markdown",
   "id": "5e4d83a1",
   "metadata": {},
   "source": [
    "> ### **Numpy Basic**"
   ]
  },
  {
   "cell_type": "code",
   "execution_count": 5,
   "id": "9abddbcd",
   "metadata": {},
   "outputs": [],
   "source": [
    "import numpy as np"
   ]
  },
  {
   "cell_type": "code",
   "execution_count": 11,
   "id": "5eeb06d3",
   "metadata": {},
   "outputs": [
    {
     "name": "stdout",
     "output_type": "stream",
     "text": [
      "1D array :\n",
      " [1 2 3 4]\n",
      "\n",
      "2D array :\n",
      " [[1 2 3]\n",
      " [4 5 6]]\n"
     ]
    }
   ],
   "source": [
    "arr_1d = np.array([1,2,3,4])\n",
    "print(\"1D array :\\n\",arr_1d)\n",
    "\n",
    "arr_2d = np.array([[1,2,3],[4,5,6]])\n",
    "print(\"\\n2D array :\\n\",arr_2d)"
   ]
  },
  {
   "cell_type": "markdown",
   "id": "fdeca34c",
   "metadata": {},
   "source": [
    "> #### **list vs Array**"
   ]
  },
  {
   "cell_type": "code",
   "execution_count": null,
   "id": "914ffdb2",
   "metadata": {},
   "outputs": [
    {
     "name": "stdout",
     "output_type": "stream",
     "text": [
      "Python list multiplication :  [1, 2, 3, 4, 1, 2, 3, 4]\n",
      "Numpy Array multiplication :  [ 2  6  8 10]\n"
     ]
    }
   ],
   "source": [
    "py_list = [1,2,3,4]\n",
    "print(\"Python list multiplication : \" , py_list *2)\n",
    "\n",
    "np_arr = np.array([1,3,4,5]) # element wise multiplication\n",
    "print(\"Numpy Array multiplication : \" , np_arr *2)"
   ]
  },
  {
   "cell_type": "code",
   "execution_count": 14,
   "id": "f25410e8",
   "metadata": {},
   "outputs": [
    {
     "name": "stdout",
     "output_type": "stream",
     "text": [
      "\n",
      " List operation time:  0.12230181694030762\n",
      "\n",
      " Numpy operation time:  0.012505769729614258\n"
     ]
    }
   ],
   "source": [
    "import time\n",
    "\n",
    "start = time.time()\n",
    "py_list = [i*2 for i in range(1000000)]\n",
    "print(\"\\n List operation time: \",time.time()- start)\n",
    "\n",
    "start = time.time()\n",
    "np_arr = np.arange(1000000) *2\n",
    "print(\"\\n Numpy operation time: \",time.time()- start)"
   ]
  },
  {
   "cell_type": "markdown",
   "id": "40d8a55e",
   "metadata": {},
   "source": [
    "> ### **Creating array from scratch**"
   ]
  },
  {
   "cell_type": "code",
   "execution_count": null,
   "id": "f6cac18b",
   "metadata": {},
   "outputs": [
    {
     "name": "stdout",
     "output_type": "stream",
     "text": [
      "[[0. 0. 0. 0.]\n",
      " [0. 0. 0. 0.]\n",
      " [0. 0. 0. 0.]]\n"
     ]
    }
   ],
   "source": [
    "zeros = np.zeros((3,4)) # for the only 0's Matrix\n",
    "print(zeros)"
   ]
  },
  {
   "cell_type": "code",
   "execution_count": null,
   "id": "c9a9ee43",
   "metadata": {},
   "outputs": [
    {
     "name": "stdout",
     "output_type": "stream",
     "text": [
      "[[1. 1. 1. 1.]\n",
      " [1. 1. 1. 1.]\n",
      " [1. 1. 1. 1.]]\n"
     ]
    }
   ],
   "source": [
    "ones = np.ones((3,4)) # for the only 1's Matrix\n",
    "print(ones)"
   ]
  },
  {
   "cell_type": "code",
   "execution_count": null,
   "id": "0593472e",
   "metadata": {},
   "outputs": [
    {
     "name": "stdout",
     "output_type": "stream",
     "text": [
      "[[7 7 7]\n",
      " [7 7 7]\n",
      " [7 7 7]]\n"
     ]
    }
   ],
   "source": [
    "full = np.full((3,3),7) # for the constant values\n",
    "print(full)"
   ]
  },
  {
   "cell_type": "code",
   "execution_count": null,
   "id": "8a171ffd",
   "metadata": {},
   "outputs": [
    {
     "name": "stdout",
     "output_type": "stream",
     "text": [
      "[[0.81185316 0.67178536 0.57337815]\n",
      " [0.56326174 0.08120345 0.76886233]\n",
      " [0.6573364  0.17341143 0.20887627]]\n"
     ]
    }
   ],
   "source": [
    "random = np.random.random((3,3)) # for the random number Matrix\n",
    "print(random)"
   ]
  },
  {
   "cell_type": "code",
   "execution_count": null,
   "id": "3d9d32fd",
   "metadata": {},
   "outputs": [
    {
     "name": "stdout",
     "output_type": "stream",
     "text": [
      "[ 0  2  4  6  8 10]\n"
     ]
    }
   ],
   "source": [
    "seq = np.arange(0,11,2) \n",
    "print(seq)"
   ]
  },
  {
   "cell_type": "markdown",
   "id": "1d99a04c",
   "metadata": {},
   "source": [
    "> ### **Vector, Matrix, Tensor**"
   ]
  },
  {
   "cell_type": "code",
   "execution_count": 25,
   "id": "b00e14e7",
   "metadata": {},
   "outputs": [
    {
     "name": "stdout",
     "output_type": "stream",
     "text": [
      "[1 2 3 4]\n"
     ]
    }
   ],
   "source": [
    "vector = np.array([1,2,3,4])\n",
    "print(vector)"
   ]
  },
  {
   "cell_type": "code",
   "execution_count": 27,
   "id": "64058cf8",
   "metadata": {},
   "outputs": [
    {
     "name": "stdout",
     "output_type": "stream",
     "text": [
      "[[1 2 3]\n",
      " [4 5 6]\n",
      " [7 8 9]]\n"
     ]
    }
   ],
   "source": [
    "matrix = np.array([[1,2,3],\n",
    "                   [4,5,6],\n",
    "                   [7,8,9]])\n",
    "\n",
    "print(matrix)"
   ]
  },
  {
   "cell_type": "code",
   "execution_count": 29,
   "id": "6a1d06f9",
   "metadata": {},
   "outputs": [
    {
     "name": "stdout",
     "output_type": "stream",
     "text": [
      "[[[1 2]\n",
      "  [3 4]]\n",
      "\n",
      " [[5 6]\n",
      "  [7 8]]]\n"
     ]
    }
   ],
   "source": [
    "tensor = np.array([[[1,2],[3,4]],\n",
    "                   [[5,6],[7,8]]])\n",
    "\n",
    "print(tensor)"
   ]
  },
  {
   "cell_type": "markdown",
   "id": "05da5e42",
   "metadata": {},
   "source": [
    "> ### **Array Properties**"
   ]
  },
  {
   "cell_type": "code",
   "execution_count": 33,
   "id": "9b7b2fe7",
   "metadata": {},
   "outputs": [
    {
     "name": "stdout",
     "output_type": "stream",
     "text": [
      "Shape :  (2, 3)\n",
      "Dimension :  2\n",
      "Size :  6\n",
      "Datatype :  int64\n"
     ]
    }
   ],
   "source": [
    "arr = np.array([[1,2,3],\n",
    "               [4,5,6]])\n",
    "\n",
    "print(\"Shape : \",arr.shape)\n",
    "print(\"Dimension : \",arr.ndim)\n",
    "print(\"Size : \",arr.size)\n",
    "print(\"Datatype : \",arr.dtype)"
   ]
  },
  {
   "cell_type": "markdown",
   "id": "3b842c78",
   "metadata": {},
   "source": [
    "> ### **Array Reshaping**"
   ]
  },
  {
   "cell_type": "code",
   "execution_count": 43,
   "id": "269cdeed",
   "metadata": {},
   "outputs": [
    {
     "name": "stdout",
     "output_type": "stream",
     "text": [
      "Original Array : [ 0  1  2  3  4  5  6  7  8  9 10 11]\n",
      "\n",
      "Reshaped Array :\n",
      " [[ 0  1  2  3]\n",
      " [ 4  5  6  7]\n",
      " [ 8  9 10 11]]\n",
      "\n",
      "Flattend Array :\n",
      " [ 0  1  2  3  4  5  6  7  8  9 10 11]\n",
      "\n",
      "Raveled Array :\n",
      " [ 0  1  2  3  4  5  6  7  8  9 10 11]\n",
      "\n",
      "Transpose Array :\n",
      " [[ 0  4  8]\n",
      " [ 1  5  9]\n",
      " [ 2  6 10]\n",
      " [ 3  7 11]]\n"
     ]
    }
   ],
   "source": [
    "arr = np.arange(12)\n",
    "print(\"Original Array :\",arr)\n",
    "\n",
    "reshaped = arr.reshape((3,4))\n",
    "print(\"\\nReshaped Array :\\n\",reshaped)\n",
    "\n",
    "flattend = reshaped.flatten() # this return the copy of the original array\n",
    "print(\"\\nFlattend Array :\\n\",flattend)\n",
    "\n",
    "# Ravel (return view, insted of copy)\n",
    "# Means it return the original array.\n",
    "\n",
    "raveled = reshaped.ravel()\n",
    "print(\"\\nRaveled Array :\\n\",raveled)\n",
    "\n",
    "# Transpose \n",
    "transpose = reshaped.T\n",
    "print(\"\\nTranspose Array :\\n\",transpose)\n"
   ]
  },
  {
   "cell_type": "code",
   "execution_count": null,
   "id": "a628652a",
   "metadata": {},
   "outputs": [],
   "source": []
  }
 ],
 "metadata": {
  "kernelspec": {
   "display_name": ".venv (3.13.5)",
   "language": "python",
   "name": "python3"
  },
  "language_info": {
   "codemirror_mode": {
    "name": "ipython",
    "version": 3
   },
   "file_extension": ".py",
   "mimetype": "text/x-python",
   "name": "python",
   "nbconvert_exporter": "python",
   "pygments_lexer": "ipython3",
   "version": "3.13.5"
  }
 },
 "nbformat": 4,
 "nbformat_minor": 5
}

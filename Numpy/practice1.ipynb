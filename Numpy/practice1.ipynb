{
 "cells": [
  {
   "cell_type": "markdown",
   "id": "b4332152",
   "metadata": {},
   "source": [
    "# Task 1"
   ]
  },
  {
   "cell_type": "markdown",
   "id": "86f07c65",
   "metadata": {},
   "source": [
    "> ### **Basics – Array Creation & Inspection**"
   ]
  },
  {
   "cell_type": "code",
   "execution_count": 1,
   "id": "3480e05e",
   "metadata": {},
   "outputs": [],
   "source": [
    "import numpy as np"
   ]
  },
  {
   "cell_type": "code",
   "execution_count": null,
   "id": "a054b912",
   "metadata": {},
   "outputs": [
    {
     "name": "stdout",
     "output_type": "stream",
     "text": [
      "[0 1 2 3 4 5 6 7 8 9]\n"
     ]
    }
   ],
   "source": [
    "# Create a 1D NumPy array with numbers from 1 to 10.\n",
    "\n",
    "arr_1d = np.arange(10)\n",
    "print(arr_1d)"
   ]
  },
  {
   "cell_type": "code",
   "execution_count": null,
   "id": "a762765c",
   "metadata": {},
   "outputs": [
    {
     "name": "stdout",
     "output_type": "stream",
     "text": [
      "[[ True  True  True]\n",
      " [ True  True  True]\n",
      " [ True  True  True]]\n"
     ]
    }
   ],
   "source": [
    "# Create a 3×3 matrix filled with True values.\n",
    "\n",
    "trueVal  = np.full((3,3),True)\n",
    "print(trueVal)"
   ]
  },
  {
   "cell_type": "code",
   "execution_count": null,
   "id": "55b52f53",
   "metadata": {},
   "outputs": [
    {
     "name": "stdout",
     "output_type": "stream",
     "text": [
      "[0. 0. 0. 0. 0. 0. 0. 0. 0. 5. 0. 0. 0. 0. 0. 0. 0. 0. 0. 0. 0. 0. 0. 0.\n",
      " 0. 0. 0. 0. 0. 0. 0. 0. 0. 0. 0. 0. 0. 0. 0. 0. 0. 0. 0. 0. 0. 0. 0. 0.\n",
      " 0. 0.]\n"
     ]
    }
   ],
   "source": [
    "#Create an array of 50 zeros and change the 10th element to 5.\n",
    "\n",
    "zeros = np.zeros((50))\n",
    "change_ele = zeros[9] = 5\n",
    "print(zeros)"
   ]
  },
  {
   "cell_type": "code",
   "execution_count": 14,
   "id": "c9c912a4",
   "metadata": {},
   "outputs": [
    {
     "name": "stdout",
     "output_type": "stream",
     "text": [
      "[ 97  39  51  41  81  27 100  93  30  90]\n"
     ]
    }
   ],
   "source": [
    "#Generate an array of 10 random integers between 1 and 100.\n",
    "\n",
    "random_integers = np.random.randint(1, 101, size=10)\n",
    "print(random_integers)"
   ]
  },
  {
   "cell_type": "code",
   "execution_count": 13,
   "id": "4d5df494",
   "metadata": {},
   "outputs": [
    {
     "name": "stdout",
     "output_type": "stream",
     "text": [
      "Shape :  (10,)\n",
      "Dimension :  1\n",
      "Size :  10\n",
      "Datatype :  int64\n",
      "============================================\n",
      "Shape :  (3, 3)\n",
      "Dimension :  2\n",
      "Size :  9\n",
      "Datatype :  bool\n",
      "============================================\n",
      "Shape :  (50,)\n",
      "Dimension :  1\n",
      "Size :  50\n",
      "Datatype :  float64\n",
      "============================================\n",
      "Shape :  (10,)\n",
      "Dimension :  1\n",
      "Size :  10\n",
      "Datatype :  int32\n"
     ]
    }
   ],
   "source": [
    "#Check the shape, size, and data type of an array.\n",
    "\n",
    "print(\"Shape : \",arr_1d.shape)\n",
    "print(\"Dimension : \",arr_1d.ndim)\n",
    "print(\"Size : \",arr_1d.size)\n",
    "print(\"Datatype : \",arr_1d.dtype)\n",
    "print(\"============================================\")\n",
    "print(\"Shape : \",trueVal.shape)\n",
    "print(\"Dimension : \",trueVal.ndim)\n",
    "print(\"Size : \",trueVal.size)\n",
    "print(\"Datatype : \",trueVal.dtype)\n",
    "print(\"============================================\")\n",
    "print(\"Shape : \",zeros.shape)\n",
    "print(\"Dimension : \",zeros.ndim)\n",
    "print(\"Size : \",zeros.size)\n",
    "print(\"Datatype : \",zeros.dtype)\n",
    "print(\"============================================\")\n",
    "print(\"Shape : \",random_integers.shape)\n",
    "print(\"Dimension : \",random_integers.ndim)\n",
    "print(\"Size : \",random_integers.size)\n",
    "print(\"Datatype : \",random_integers.dtype)"
   ]
  },
  {
   "cell_type": "markdown",
   "id": "2db5dd2d",
   "metadata": {},
   "source": [
    "# Task 2"
   ]
  },
  {
   "cell_type": "code",
   "execution_count": 16,
   "id": "a83553a7",
   "metadata": {},
   "outputs": [
    {
     "name": "stdout",
     "output_type": "stream",
     "text": [
      "[ 0  2  4  6  8 10 12 14 16 18]\n"
     ]
    }
   ],
   "source": [
    "arr = np.arange(20)\n",
    "print(arr[0:21:2])"
   ]
  },
  {
   "cell_type": "code",
   "execution_count": 34,
   "id": "ca2379bb",
   "metadata": {},
   "outputs": [
    {
     "name": "stdout",
     "output_type": "stream",
     "text": [
      "Main Array : \n",
      " [[ 1  2  3  4  5]\n",
      " [ 6  7  8  9 10]\n",
      " [11 12 13 14 15]\n",
      " [16 17 18 19 20]\n",
      " [21 22 23 24 25]]\n",
      "\n",
      " Middle elements\n",
      " [[ 7  8  9]\n",
      " [12 13 14]\n",
      " [17 18 19]]\n"
     ]
    }
   ],
   "source": [
    "\n",
    "arr1 = np.array([[1,2,3,4,5],\n",
    "                 [6,7,8,9,10],\n",
    "                 [11,12,13,14,15],\n",
    "                 [16,17,18,19,20],\n",
    "                 [21,22,23,24,25]])\n",
    "print(\"Main Array : \\n\",arr1)\n",
    "print(\"\\n Middle elements\\n\",arr1[1:4,1:4])\n"
   ]
  },
  {
   "cell_type": "code",
   "execution_count": 37,
   "id": "11ba3859",
   "metadata": {},
   "outputs": [
    {
     "name": "stdout",
     "output_type": "stream",
     "text": [
      "Original Array:  [ 0  1  2  3  4  5  6  7  8  9 10 11 12 13 14 15 16 17 18 19]\n",
      "\n",
      "Reversed Array:  [19 18 17 16 15 14 13 12 11 10  9  8  7  6  5  4  3  2  1  0]\n"
     ]
    }
   ],
   "source": [
    "arr = np.arange(20)\n",
    "print('Original Array: ',arr)\n",
    "print(\"\\nReversed Array: \",arr[::-1])"
   ]
  },
  {
   "cell_type": "code",
   "execution_count": 39,
   "id": "db6b123c",
   "metadata": {},
   "outputs": [
    {
     "name": "stdout",
     "output_type": "stream",
     "text": [
      "[0 0 0 0 0 0 0 0 0 7]\n"
     ]
    }
   ],
   "source": [
    "arr = np.array([-1,-5,-4,-2,-5,-15,-18,-25,-85,7])\n",
    "arr[arr<0] = 0\n",
    "print(arr)\n"
   ]
  },
  {
   "cell_type": "code",
   "execution_count": 40,
   "id": "b84c26aa",
   "metadata": {},
   "outputs": [
    {
     "name": "stdout",
     "output_type": "stream",
     "text": [
      "[ 1  6 11 16]\n"
     ]
    }
   ],
   "source": [
    "arr = np.array([[1,  2,  3,  4],\n",
    "                [5,  6,  7,  8],\n",
    "                [9, 10, 11, 12],\n",
    "                [13,14, 15, 16]])\n",
    "\n",
    "digonal = np.diag(arr)\n",
    "print(digonal)"
   ]
  },
  {
   "cell_type": "markdown",
   "id": "65b69073",
   "metadata": {},
   "source": [
    "# Task 3"
   ]
  },
  {
   "cell_type": "code",
   "execution_count": 41,
   "id": "6db8a465",
   "metadata": {},
   "outputs": [
    {
     "name": "stdout",
     "output_type": "stream",
     "text": [
      "[[10 10 10 10 10]]\n"
     ]
    }
   ],
   "source": [
    "num1 = np.array([1,2,3,4,5])\n",
    "num2 = np.array([[9,8,7,6,5]])\n",
    "\n",
    "print(num1+num2)"
   ]
  },
  {
   "cell_type": "code",
   "execution_count": 42,
   "id": "ad3c2768",
   "metadata": {},
   "outputs": [
    {
     "name": "stdout",
     "output_type": "stream",
     "text": [
      "[ 3  6  9 12 15]\n"
     ]
    }
   ],
   "source": [
    "num1 = np.array([1,2,3,4,5])\n",
    "print(num1*3)"
   ]
  },
  {
   "cell_type": "code",
   "execution_count": 47,
   "id": "c4d78c3d",
   "metadata": {},
   "outputs": [
    {
     "name": "stdout",
     "output_type": "stream",
     "text": [
      "[2.         4.         5.         5.65685425]\n"
     ]
    }
   ],
   "source": [
    "num1 = np.array([4,16,25,32])\n",
    "print(np.sqrt(num1))"
   ]
  },
  {
   "cell_type": "code",
   "execution_count": 49,
   "id": "167d5f53",
   "metadata": {},
   "outputs": [
    {
     "name": "stdout",
     "output_type": "stream",
     "text": [
      "1\n",
      "3.0\n",
      "1.4142135623730951\n"
     ]
    }
   ],
   "source": [
    "num1 = np.array([1,2,3,4,5])\n",
    "print(np.min(num1))\n",
    "print(np.median(num1))\n",
    "print(np.std(num1))"
   ]
  },
  {
   "cell_type": "code",
   "execution_count": 50,
   "id": "9204bec9",
   "metadata": {},
   "outputs": [
    {
     "name": "stdout",
     "output_type": "stream",
     "text": [
      "[0.   0.25 0.5  0.75 1.  ]\n"
     ]
    }
   ],
   "source": [
    "arr = np.array([5, 10, 15, 20, 25])\n",
    "normalized = (arr - np.min(arr)) / (np.max(arr) - np.min(arr))\n",
    "print(normalized)"
   ]
  },
  {
   "cell_type": "code",
   "execution_count": null,
   "id": "6c86ffc4",
   "metadata": {},
   "outputs": [],
   "source": []
  }
 ],
 "metadata": {
  "kernelspec": {
   "display_name": ".venv (3.13.5)",
   "language": "python",
   "name": "python3"
  },
  "language_info": {
   "codemirror_mode": {
    "name": "ipython",
    "version": 3
   },
   "file_extension": ".py",
   "mimetype": "text/x-python",
   "name": "python",
   "nbconvert_exporter": "python",
   "pygments_lexer": "ipython3",
   "version": "3.13.5"
  }
 },
 "nbformat": 4,
 "nbformat_minor": 5
}

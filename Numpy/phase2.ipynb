{
 "cells": [
  {
   "cell_type": "markdown",
   "id": "954f2209",
   "metadata": {},
   "source": [
    "> ### **Numpy Array operations**"
   ]
  },
  {
   "cell_type": "code",
   "execution_count": 3,
   "id": "4bf2638f",
   "metadata": {},
   "outputs": [],
   "source": [
    "import numpy as np"
   ]
  },
  {
   "cell_type": "code",
   "execution_count": 4,
   "id": "f478d652",
   "metadata": {},
   "outputs": [
    {
     "name": "stdout",
     "output_type": "stream",
     "text": [
      "Basic slicing :  [2 3 4 5 6]\n",
      "Index slicing :  [1 3 5 7]\n",
      "Negative slicing :  7\n"
     ]
    }
   ],
   "source": [
    "# 1D array slicing\n",
    "\n",
    "arr = np.arange(10)\n",
    "print('Basic slicing : ',arr[2:7])\n",
    "print('Index slicing : ',arr[1:8:2])\n",
    "print('Negative slicing : ',arr[-3])"
   ]
  },
  {
   "cell_type": "code",
   "execution_count": 5,
   "id": "99255bb4",
   "metadata": {},
   "outputs": [
    {
     "name": "stdout",
     "output_type": "stream",
     "text": [
      "Specific element:  6\n",
      "Entire Row:  [4 5 6]\n",
      "Entire col:  [2 5 8]\n"
     ]
    }
   ],
   "source": [
    "# 2D array slicing\n",
    "\n",
    "arr_2d = np.array([[1,2,3],\n",
    "                   [4,5,6],\n",
    "                   [7,8,9]])\n",
    "\n",
    "print(\"Specific element: \",arr_2d[1,2])\n",
    "print('Entire Row: ', arr_2d[1])\n",
    "print('Entire col: ', arr_2d[:,1])"
   ]
  },
  {
   "cell_type": "markdown",
   "id": "c0068997",
   "metadata": {},
   "source": [
    "> ### **Sorting**"
   ]
  },
  {
   "cell_type": "code",
   "execution_count": 6,
   "id": "a3cce64b",
   "metadata": {},
   "outputs": [
    {
     "name": "stdout",
     "output_type": "stream",
     "text": [
      "Sorted Array:  [1 1 2 3 4 5 6 9]\n"
     ]
    }
   ],
   "source": [
    "unsorted = np.array([3,1,4,1,5,9,2,6])\n",
    "print('Sorted Array: ', np.sort(unsorted))"
   ]
  },
  {
   "cell_type": "code",
   "execution_count": 7,
   "id": "af56a9c8",
   "metadata": {},
   "outputs": [
    {
     "name": "stdout",
     "output_type": "stream",
     "text": [
      "Sorted Array:  [[1 1]\n",
      " [3 2]\n",
      " [3 2]]\n"
     ]
    }
   ],
   "source": [
    "unsorted_2d = np.array([[3,2],[1,2],[3,1]])\n",
    "print(\"Sorted Array: \", np.sort(unsorted_2d, axis=0))\n",
    "# sorted by top to bottom"
   ]
  },
  {
   "cell_type": "markdown",
   "id": "2e6d8078",
   "metadata": {},
   "source": [
    "> ### **Filter**"
   ]
  },
  {
   "cell_type": "code",
   "execution_count": 8,
   "id": "4e0723f4",
   "metadata": {},
   "outputs": [
    {
     "name": "stdout",
     "output_type": "stream",
     "text": [
      "[ 2  4  6  8 10]\n"
     ]
    }
   ],
   "source": [
    "numbers = np.array([1,2,3,4,5,6,7,8,9,10])\n",
    "even_no = numbers[numbers % 2 == 0] # numpy allow us to use expressions also\n",
    "print(even_no)"
   ]
  },
  {
   "cell_type": "markdown",
   "id": "0f533a54",
   "metadata": {},
   "source": [
    "> ### **Filter with mask**"
   ]
  },
  {
   "cell_type": "code",
   "execution_count": 9,
   "id": "58325f56",
   "metadata": {},
   "outputs": [
    {
     "name": "stdout",
     "output_type": "stream",
     "text": [
      "Number is Greater then 5 :  [ 6  7  8  9 10]\n"
     ]
    }
   ],
   "source": [
    "mask = numbers > 5\n",
    "print(\"Number is Greater then 5 : \", numbers[mask])"
   ]
  },
  {
   "cell_type": "markdown",
   "id": "80aeb6d1",
   "metadata": {},
   "source": [
    "> ### **Fancy Indexing vs Numpy Where**"
   ]
  },
  {
   "cell_type": "code",
   "execution_count": 10,
   "id": "db3b59e1",
   "metadata": {},
   "outputs": [
    {
     "name": "stdout",
     "output_type": "stream",
     "text": [
      "[ 1  2  3  4  5  6  7  8  9 10]\n"
     ]
    }
   ],
   "source": [
    "print(numbers)"
   ]
  },
  {
   "cell_type": "code",
   "execution_count": 11,
   "id": "f0d61dfe",
   "metadata": {},
   "outputs": [
    {
     "name": "stdout",
     "output_type": "stream",
     "text": [
      "[1 3 5]\n"
     ]
    }
   ],
   "source": [
    "indices = [0,2,4]\n",
    "print(numbers[indices])"
   ]
  },
  {
   "cell_type": "code",
   "execution_count": 14,
   "id": "54112dde",
   "metadata": {},
   "outputs": [
    {
     "name": "stdout",
     "output_type": "stream",
     "text": [
      "(array([5, 6, 7, 8, 9]),)\n",
      "[ 6  7  8  9 10]\n"
     ]
    }
   ],
   "source": [
    "# where is like to Mask \n",
    "where_result = np.where(numbers>5) \n",
    "print(where_result)\n",
    "print(numbers[where_result])"
   ]
  },
  {
   "cell_type": "code",
   "execution_count": 18,
   "id": "d6cf164d",
   "metadata": {},
   "outputs": [
    {
     "name": "stdout",
     "output_type": "stream",
     "text": [
      "[ 1  2  3  4  5 24 28 32 36 40]\n"
     ]
    }
   ],
   "source": [
    "codition_arr = np.where(numbers>5,numbers*4,numbers)\n",
    "print(codition_arr)"
   ]
  },
  {
   "cell_type": "code",
   "execution_count": 19,
   "id": "c5469f85",
   "metadata": {},
   "outputs": [],
   "source": [
    "#  if(numbers > 5){\n",
    "#     numbers * 4\n",
    "#  } else{\n",
    "#     numbers\n",
    "# }"
   ]
  },
  {
   "cell_type": "code",
   "execution_count": 20,
   "id": "967fa412",
   "metadata": {},
   "outputs": [
    {
     "name": "stdout",
     "output_type": "stream",
     "text": [
      "[False False False False False  True  True  True  True  True]\n"
     ]
    }
   ],
   "source": [
    "codition_arr = np.where(numbers>5,True,False)\n",
    "print(codition_arr)"
   ]
  },
  {
   "cell_type": "markdown",
   "id": "3456d13a",
   "metadata": {},
   "source": [
    "> ### **Add and removing data**"
   ]
  },
  {
   "cell_type": "code",
   "execution_count": 24,
   "id": "08c99aa6",
   "metadata": {},
   "outputs": [
    {
     "name": "stdout",
     "output_type": "stream",
     "text": [
      "[1 2 3 4 5 6]\n"
     ]
    }
   ],
   "source": [
    "arr1 = np.array([1,2,3])\n",
    "arr2 = np.array([4,5,6])\n",
    "\n",
    "#combine = arr1 + arr2 # normal combination means it add the numbers together\n",
    "combine = np.concatenate((arr1,arr2)) # The concatenate means add all numbers together not sum of them\n",
    "print(combine)"
   ]
  },
  {
   "cell_type": "markdown",
   "id": "59601f5c",
   "metadata": {},
   "source": [
    "> ### **Array Compatibilty**"
   ]
  },
  {
   "cell_type": "code",
   "execution_count": 27,
   "id": "0deb1f95",
   "metadata": {},
   "outputs": [
    {
     "name": "stdout",
     "output_type": "stream",
     "text": [
      "Compatibilty shape : False\n"
     ]
    }
   ],
   "source": [
    "a = np.array([1,2,3])\n",
    "b = np.array([4,5,6,10])\n",
    "c = np.array([7,8,9])\n",
    "\n",
    "print(\"Compatibilty shape :\",a.shape == b.shape)\n"
   ]
  },
  {
   "cell_type": "code",
   "execution_count": 32,
   "id": "74529f40",
   "metadata": {},
   "outputs": [
    {
     "name": "stdout",
     "output_type": "stream",
     "text": [
      "[[1 2]\n",
      " [3 4]]\n",
      "\n",
      " [[1 2]\n",
      " [3 4]\n",
      " [5 6]]\n",
      "\n",
      " [[1 2 7]\n",
      " [3 4 8]]\n"
     ]
    }
   ],
   "source": [
    "original = np.array([[1,2],[3,4]])\n",
    "new_row = np.array([[5,6]])\n",
    "\n",
    "with_new_row = np.vstack((original,new_row)) # add the new row = vstack\n",
    "print(original)\n",
    "print(\"\\n\",with_new_row)\n",
    "\n",
    "new_col = np.array([[7],[8]])\n",
    "with_new_col = np.hstack((original,new_col))\n",
    "print(\"\\n\",with_new_col)"
   ]
  },
  {
   "cell_type": "code",
   "execution_count": 34,
   "id": "1adb73e2",
   "metadata": {},
   "outputs": [
    {
     "name": "stdout",
     "output_type": "stream",
     "text": [
      "[1 2 4 5]\n"
     ]
    }
   ],
   "source": [
    "# delete \n",
    "arr = np.array([1,2,3,4,5])\n",
    "deleted = np.delete(arr,2)\n",
    "print(deleted)"
   ]
  },
  {
   "cell_type": "code",
   "execution_count": null,
   "id": "724fa255",
   "metadata": {},
   "outputs": [],
   "source": []
  }
 ],
 "metadata": {
  "kernelspec": {
   "display_name": ".venv (3.13.5)",
   "language": "python",
   "name": "python3"
  },
  "language_info": {
   "codemirror_mode": {
    "name": "ipython",
    "version": 3
   },
   "file_extension": ".py",
   "mimetype": "text/x-python",
   "name": "python",
   "nbconvert_exporter": "python",
   "pygments_lexer": "ipython3",
   "version": "3.13.5"
  }
 },
 "nbformat": 4,
 "nbformat_minor": 5
}
